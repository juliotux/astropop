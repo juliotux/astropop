{
 "cells": [
  {
   "cell_type": "code",
   "execution_count": 18,
   "id": "65208145",
   "metadata": {},
   "outputs": [],
   "source": [
    "from astropop.astrometry import AstrometrySolver, solve_astrometry_framedata, solve_astrometry_xy\n",
    "from astropop.photometry import background, starfind\n",
    "from astropop.framedata import FrameData, read_framedata\n",
    "from astropy.io import fits\n",
    "from astropy.coordinates import Angle\n",
    "\n",
    "from astroquery.skyview import SkyView"
   ]
  },
  {
   "cell_type": "code",
   "execution_count": 19,
   "id": "c1745a8e",
   "metadata": {},
   "outputs": [],
   "source": [
    "image_name = '/home/julio/Astrometry/M67.fits'\n",
    "image_ra = '08:50:00'\n",
    "image_dec = '11:50:00'\n",
    "search_radius = '1 deg'\n",
    "indexes_path = '/home/julio/Astrometry/INDEXES/5200'\n",
    "\n",
    "# download DSS image of M67 using SkyView\n",
    "dss_image = SkyView.get_images(position='M67',\n",
    "                               survey='DSS',\n",
    "                               radius=Angle('0.2 deg'))[0][0]\n",
    "dss_image.writeto(image_name, overwrite=True)"
   ]
  },
  {
   "attachments": {},
   "cell_type": "markdown",
   "id": "03f1d645",
   "metadata": {},
   "source": [
    "# AstrometrySolver class"
   ]
  },
  {
   "cell_type": "code",
   "execution_count": 20,
   "id": "dd986737",
   "metadata": {},
   "outputs": [],
   "source": [
    "a = AstrometrySolver()"
   ]
  },
  {
   "cell_type": "code",
   "execution_count": 21,
   "id": "47074eb9",
   "metadata": {},
   "outputs": [
    {
     "name": "stderr",
     "output_type": "stream",
     "text": [
      "2023-06-13 19:25:14,506 astropop - INFO - Runing: /home/julio/mambaforge/envs/astropop/bin/solve-field /home/julio/Astrometry/M67.fits --dir /tmp/M67_i_1iwddz_astrometry.net --config /tmp/M67_i_1iwddz_astrometry.net/M67.cfg --ra 132.5 --dec 11.833333333333334 --radius 1.0 --no-plots --overwrite --corr /tmp/M67_i_1iwddz_astrometry.net/M67.corr  [py_utils]\n",
      "2023-06-13 19:25:14,519 astropop - INFO - Reading input file 1 of 1: \"/home/julio/Astrometry/M67.fits\"...  [py_utils]\n",
      "2023-06-13 19:25:14,598 astropop - INFO - Found an existing WCS header, will try to verify it.  [py_utils]\n",
      "2023-06-13 19:25:14,598 astropop - INFO - Extracting sources...  [py_utils]\n",
      "2023-06-13 19:25:14,701 astropop - INFO - simplexy: found 305 sources.  [py_utils]\n",
      "2023-06-13 19:25:15,889 astropop - INFO - Solving...  [py_utils]\n",
      "2023-06-13 19:25:16,217 astropop - INFO - Reading file \"/tmp/M67_i_1iwddz_astrometry.net/M67.axy\"...  [py_utils]\n",
      "2023-06-13 19:25:16,218 astropop - INFO - Only searching for solutions within 1 degrees of RA,Dec (132.5,11.8333)  [py_utils]\n",
      "2023-06-13 19:25:16,218 astropop - INFO - Verifying WCS using indices with quads of size [1.2, 12] arcmin  [py_utils]\n",
      "2023-06-13 19:25:16,222 astropop - INFO - Verifying WCS with index 3 of 6 (/home/julio/Astrometry/INDEXES/5200/index-5205-04.fits)  [py_utils]\n",
      "2023-06-13 19:25:16,222 astropop - INFO - Verifying WCS of field 1.  [py_utils]\n",
      "2023-06-13 19:25:16,223 astropop - INFO -  --> log-odds 0  [py_utils]\n",
      "2023-06-13 19:25:16,224 astropop - INFO - Verifying WCS with index 4 of 6 (/home/julio/Astrometry/INDEXES/5200/index-5204-04.fits)  [py_utils]\n",
      "2023-06-13 19:25:16,224 astropop - INFO - Verifying WCS of field 1.  [py_utils]\n",
      "2023-06-13 19:25:16,225 astropop - INFO -   log-odds ratio 25.5604 (1.26102e+11), 35 match, 0 conflict, 262 distractors, 37 index.  [py_utils]\n",
      "2023-06-13 19:25:16,225 astropop - INFO -   RA,Dec = (132.846,11.8137), pixel scale 2.4 arcsec/pix.  [py_utils]\n",
      "2023-06-13 19:25:16,225 astropop - INFO -   Hit/miss:   Hit/miss: ------------+------------------+----+----------------------+----+---------+-----+--+----------------  [py_utils]\n",
      "2023-06-13 19:25:16,336 astropop - INFO -  --> log-odds 25.5604  [py_utils]\n",
      "2023-06-13 19:25:16,337 astropop - INFO - Verifying WCS with index 5 of 6 (/home/julio/Astrometry/INDEXES/5200/index-5203-04.fits)  [py_utils]\n",
      "2023-06-13 19:25:16,338 astropop - INFO - Verifying WCS of field 1.  [py_utils]\n",
      "2023-06-13 19:25:16,338 astropop - INFO -   log-odds ratio 171.645 (3.50486e+74), 55 match, 0 conflict, 242 distractors, 56 index.  [py_utils]\n",
      "2023-06-13 19:25:16,338 astropop - INFO -   RA,Dec = (132.846,11.8137), pixel scale 2.4 arcsec/pix.  [py_utils]\n",
      "2023-06-13 19:25:16,339 astropop - INFO -   Hit/miss:   Hit/miss: +----+----+-+------+------+----+---++----------+------++---+----+------+--+-----++--++-+----+-------  [py_utils]\n",
      "2023-06-13 19:25:16,439 astropop - INFO -  --> log-odds 171.645  [py_utils]\n",
      "2023-06-13 19:25:16,440 astropop - INFO - Verifying WCS with index 6 of 6 (/home/julio/Astrometry/INDEXES/5200/index-5202-04.fits)  [py_utils]\n",
      "2023-06-13 19:25:16,440 astropop - INFO - Verifying WCS of field 1.  [py_utils]\n",
      "2023-06-13 19:25:16,441 astropop - INFO -   log-odds ratio 376.393 (2.91962e+163), 99 match, 0 conflict, 198 distractors, 104 index.  [py_utils]\n",
      "2023-06-13 19:25:16,441 astropop - INFO -   RA,Dec = (132.846,11.8137), pixel scale 2.4 arcsec/pix.  [py_utils]\n",
      "2023-06-13 19:25:16,441 astropop - INFO -   Hit/miss:   Hit/miss: +++--+++--+-+-----+++--+--+++--+---+++--+-----++--+---++---+--+-++++--++++++-+--++-++--+-++++-+-+-++  [py_utils]\n",
      "2023-06-13 19:25:16,542 astropop - INFO -  --> log-odds 376.393  [py_utils]\n",
      "2023-06-13 19:25:16,543 astropop - INFO - Got 3 solutions.  [py_utils]\n",
      "2023-06-13 19:25:16,543 astropop - INFO - Field 1 solved: writing to file /tmp/M67_i_1iwddz_astrometry.net/M67.solved to indicate this.  [py_utils]\n",
      "2023-06-13 19:25:16,590 astropop - INFO - Field: /home/julio/Astrometry/M67.fits  [py_utils]\n",
      "2023-06-13 19:25:16,591 astropop - INFO - Field center: (RA,Dec) = (132.845997, 11.813749) deg.  [py_utils]\n",
      "2023-06-13 19:25:16,592 astropop - INFO - Field center: (RA H:M:S, Dec D:M:S) = (08:51:23.039, +11:48:49.496).  [py_utils]\n",
      "2023-06-13 19:25:16,592 astropop - INFO - Field size: 11.9996 x 11.9989 arcminutes  [py_utils]\n",
      "2023-06-13 19:25:16,593 astropop - INFO - Field rotation angle: up is 0.0125825 degrees E of N  [py_utils]\n",
      "2023-06-13 19:25:16,593 astropop - INFO - Field parity: pos  [py_utils]\n",
      "2023-06-13 19:25:16,594 astropop - INFO - Creating new FITS file \"/tmp/M67_i_1iwddz_astrometry.net/M67.new\"...  [py_utils]\n",
      "2023-06-13 19:25:16,594 astropop - INFO -   [py_utils]\n",
      "2023-06-13 19:25:16,596 astropop - INFO - Done with process: /home/julio/mambaforge/envs/astropop/bin/solve-field /home/julio/Astrometry/M67.fits --dir /tmp/M67_i_1iwddz_astrometry.net --config /tmp/M67_i_1iwddz_astrometry.net/M67.cfg --ra 132.5 --dec 11.833333333333334 --radius 1.0 --no-plots --overwrite --corr /tmp/M67_i_1iwddz_astrometry.net/M67.corr  [py_utils]\n",
      "WARNING: UnitsWarning: 'pixels' did not parse as fits unit: At col 0, Unit 'pixels' not supported by the FITS standard. Did you mean pixel? If this is meant to be a custom unit, define it with 'u.def_unit'. To have it recognized inside a file reader or other code, enable it with 'u.add_enabled_units'. For details, see https://docs.astropy.org/en/latest/units/combining_and_defining.html [astropy.units.core]\n",
      "2023-06-13 19:25:16,609 astropy - WARNING - UnitsWarning: 'pixels' did not parse as fits unit: At col 0, Unit 'pixels' not supported by the FITS standard. Did you mean pixel? If this is meant to be a custom unit, define it with 'u.def_unit'. To have it recognized inside a file reader or other code, enable it with 'u.add_enabled_units'. For details, see https://docs.astropy.org/en/latest/units/combining_and_defining.html  [logger]\n",
      "WARNING: UnitsWarning: 'degrees' did not parse as fits unit: At col 0, Unit 'degrees' not supported by the FITS standard.  If this is meant to be a custom unit, define it with 'u.def_unit'. To have it recognized inside a file reader or other code, enable it with 'u.add_enabled_units'. For details, see https://docs.astropy.org/en/latest/units/combining_and_defining.html [astropy.units.core]\n",
      "2023-06-13 19:25:16,613 astropy - WARNING - UnitsWarning: 'degrees' did not parse as fits unit: At col 0, Unit 'degrees' not supported by the FITS standard.  If this is meant to be a custom unit, define it with 'u.def_unit'. To have it recognized inside a file reader or other code, enable it with 'u.add_enabled_units'. For details, see https://docs.astropy.org/en/latest/units/combining_and_defining.html  [logger]\n",
      "WARNING: UnitsWarning: 'none' did not parse as fits unit: At col 0, Unit 'none' not supported by the FITS standard.  If this is meant to be a custom unit, define it with 'u.def_unit'. To have it recognized inside a file reader or other code, enable it with 'u.add_enabled_units'. For details, see https://docs.astropy.org/en/latest/units/combining_and_defining.html [astropy.units.core]\n",
      "2023-06-13 19:25:16,620 astropy - WARNING - UnitsWarning: 'none' did not parse as fits unit: At col 0, Unit 'none' not supported by the FITS standard.  If this is meant to be a custom unit, define it with 'u.def_unit'. To have it recognized inside a file reader or other code, enable it with 'u.add_enabled_units'. For details, see https://docs.astropy.org/en/latest/units/combining_and_defining.html  [logger]\n",
      "WARNING: UnitsWarning: 'unknown' did not parse as fits unit: At col 0, Unit 'unknown' not supported by the FITS standard.  If this is meant to be a custom unit, define it with 'u.def_unit'. To have it recognized inside a file reader or other code, enable it with 'u.add_enabled_units'. For details, see https://docs.astropy.org/en/latest/units/combining_and_defining.html [astropy.units.core]\n",
      "2023-06-13 19:25:16,625 astropy - WARNING - UnitsWarning: 'unknown' did not parse as fits unit: At col 0, Unit 'unknown' not supported by the FITS standard.  If this is meant to be a custom unit, define it with 'u.def_unit'. To have it recognized inside a file reader or other code, enable it with 'u.add_enabled_units'. For details, see https://docs.astropy.org/en/latest/units/combining_and_defining.html  [logger]\n",
      "WARNING: FITSFixedWarning: The WCS transformation has more axes (2) than the image it is associated with (0) [astropy.wcs.wcs]\n",
      "2023-06-13 19:25:16,638 astropy - WARNING - FITSFixedWarning: The WCS transformation has more axes (2) than the image it is associated with (0)  [logger]\n"
     ]
    }
   ],
   "source": [
    "solution = a.solve_field(image_name,\n",
    "                         options={'add_path': indexes_path,\n",
    "                                  'ra': image_ra, 'dec': image_dec, 'radius': search_radius},\n",
    "                         stdout_loglevel='INFO')"
   ]
  },
  {
   "cell_type": "code",
   "execution_count": 24,
   "id": "a394d5c2",
   "metadata": {},
   "outputs": [
    {
     "name": "stdout",
     "output_type": "stream",
     "text": [
      "WCS Keywords\n",
      "\n",
      "Number of WCS axes: 2\n",
      "CTYPE : 'RA---TAN-SIP'  'DEC--TAN-SIP'  \n",
      "CRVAL : 132.845996628  11.8137489136  \n",
      "CRPIX : 150.5  150.5  \n",
      "CD1_1 CD1_2  : -0.000666646299846  1.75696203662e-07  \n",
      "CD2_1 CD2_2  : 1.17094852931e-07  0.000666605100714  \n",
      "NAXIS : 0  0\n"
     ]
    }
   ],
   "source": [
    "print(solution.wcs)"
   ]
  },
  {
   "attachments": {},
   "cell_type": "markdown",
   "id": "ae4ab05d",
   "metadata": {},
   "source": [
    "# solve_astrometry_xy"
   ]
  },
  {
   "cell_type": "code",
   "execution_count": 25,
   "id": "2a7e370b",
   "metadata": {},
   "outputs": [
    {
     "ename": "KeyError",
     "evalue": "\"Keyword 'HISTORY' not found.\"",
     "output_type": "error",
     "traceback": [
      "\u001b[0;31m---------------------------------------------------------------------------\u001b[0m",
      "\u001b[0;31mKeyError\u001b[0m                                  Traceback (most recent call last)",
      "Cell \u001b[0;32mIn[25], line 1\u001b[0m\n\u001b[0;32m----> 1\u001b[0m frame \u001b[39m=\u001b[39m read_framedata(image_name)\n\u001b[1;32m      2\u001b[0m bkg, rms \u001b[39m=\u001b[39m background(frame\u001b[39m.\u001b[39mdata)\n\u001b[1;32m      3\u001b[0m sources \u001b[39m=\u001b[39m starfind(frame\u001b[39m.\u001b[39mdata, background\u001b[39m=\u001b[39mbkg, noise\u001b[39m=\u001b[39mrms, threshold\u001b[39m=\u001b[39m\u001b[39m20\u001b[39m)\n",
      "File \u001b[0;32m~/mambaforge/envs/astropop/lib/python3.11/site-packages/astropop/framedata/util.py:60\u001b[0m, in \u001b[0;36mread_framedata\u001b[0;34m(obj, copy, **kwargs)\u001b[0m\n\u001b[1;32m     58\u001b[0m         \u001b[39mif\u001b[39;00m k \u001b[39min\u001b[39;00m kwargs\u001b[39m.\u001b[39mkeys():\n\u001b[1;32m     59\u001b[0m             fits_kwargs[k] \u001b[39m=\u001b[39m kwargs\u001b[39m.\u001b[39mpop(k)\n\u001b[0;32m---> 60\u001b[0m     obj \u001b[39m=\u001b[39m FrameData(\u001b[39m*\u001b[39;49m\u001b[39m*\u001b[39;49m_extract_fits(obj, \u001b[39m*\u001b[39;49m\u001b[39m*\u001b[39;49mfits_kwargs), \u001b[39m*\u001b[39;49m\u001b[39m*\u001b[39;49mkwargs)\n\u001b[1;32m     61\u001b[0m \u001b[39melif\u001b[39;00m \u001b[39misinstance\u001b[39m(obj, Quantity):\n\u001b[1;32m     62\u001b[0m     obj \u001b[39m=\u001b[39m FrameData(obj\u001b[39m.\u001b[39mvalue, unit\u001b[39m=\u001b[39mobj\u001b[39m.\u001b[39munit, \u001b[39m*\u001b[39m\u001b[39m*\u001b[39mkwargs)\n",
      "File \u001b[0;32m~/mambaforge/envs/astropop/lib/python3.11/site-packages/astropop/framedata/framedata.py:271\u001b[0m, in \u001b[0;36mFrameData.__init__\u001b[0;34m(self, data, unit, dtype, uncertainty, mask, flags, wcs, meta, header, cache_folder, cache_filename, origin_filename, use_memmap_backend)\u001b[0m\n\u001b[1;32m    269\u001b[0m \u001b[39mself\u001b[39m\u001b[39m.\u001b[39m_comments \u001b[39m=\u001b[39m []\n\u001b[1;32m    270\u001b[0m \u001b[39mself\u001b[39m\u001b[39m.\u001b[39m_meta \u001b[39m=\u001b[39m fits\u001b[39m.\u001b[39mHeader()\n\u001b[0;32m--> 271\u001b[0m \u001b[39mself\u001b[39;49m\u001b[39m.\u001b[39;49m_header_update(header, meta, wcs)\n",
      "File \u001b[0;32m~/mambaforge/envs/astropop/lib/python3.11/site-packages/astropop/framedata/framedata.py:275\u001b[0m, in \u001b[0;36mFrameData._header_update\u001b[0;34m(self, header, meta, wcs)\u001b[0m\n\u001b[1;32m    273\u001b[0m \u001b[39mdef\u001b[39;00m \u001b[39m_header_update\u001b[39m(\u001b[39mself\u001b[39m, header, meta\u001b[39m=\u001b[39m\u001b[39mNone\u001b[39;00m, wcs\u001b[39m=\u001b[39m\u001b[39mNone\u001b[39;00m):\n\u001b[1;32m    274\u001b[0m     \u001b[39m# merge header and meta. meta with higher priority\u001b[39;00m\n\u001b[0;32m--> 275\u001b[0m     meta, wcs, history, comment \u001b[39m=\u001b[39m _merge_and_clean_header(meta, header,\n\u001b[1;32m    276\u001b[0m                                                           wcs)\n\u001b[1;32m    277\u001b[0m     \u001b[39mif\u001b[39;00m \u001b[39mlen\u001b[39m(history) \u001b[39m>\u001b[39m \u001b[39m0\u001b[39m:\n\u001b[1;32m    278\u001b[0m         \u001b[39mself\u001b[39m\u001b[39m.\u001b[39mhistory \u001b[39m=\u001b[39m history\n",
      "File \u001b[0;32m~/mambaforge/envs/astropop/lib/python3.11/site-packages/astropop/framedata/_compat.py:122\u001b[0m, in \u001b[0;36m_merge_and_clean_header\u001b[0;34m(meta, header, wcs)\u001b[0m\n\u001b[1;32m    118\u001b[0m \u001b[39mif\u001b[39;00m meta \u001b[39mis\u001b[39;00m \u001b[39mnot\u001b[39;00m \u001b[39mNone\u001b[39;00m:\n\u001b[1;32m    119\u001b[0m     \u001b[39m# strip history and comments from meta and add them after\u001b[39;00m\n\u001b[1;32m    120\u001b[0m     \u001b[39m# these keys are dicts and the creation of fits.Header dont handle it\u001b[39;00m\n\u001b[1;32m    121\u001b[0m     history \u001b[39m=\u001b[39m meta\u001b[39m.\u001b[39mpop(\u001b[39m'\u001b[39m\u001b[39mhistory\u001b[39m\u001b[39m'\u001b[39m, [])\n\u001b[0;32m--> 122\u001b[0m     history \u001b[39m=\u001b[39m \u001b[39mlist\u001b[39;49m(broadcast(history)\u001b[39m.\u001b[39;49miters[\u001b[39m0\u001b[39;49m])\n\u001b[1;32m    123\u001b[0m     comment \u001b[39m=\u001b[39m meta\u001b[39m.\u001b[39mpop(\u001b[39m'\u001b[39m\u001b[39mcomment\u001b[39m\u001b[39m'\u001b[39m, [])\n\u001b[1;32m    124\u001b[0m     comment \u001b[39m=\u001b[39m \u001b[39mlist\u001b[39m(broadcast(comment)\u001b[39m.\u001b[39miters[\u001b[39m0\u001b[39m])\n",
      "File \u001b[0;32m~/mambaforge/envs/astropop/lib/python3.11/site-packages/astropy/io/fits/header.py:2243\u001b[0m, in \u001b[0;36m_HeaderCommentaryCards.__iter__\u001b[0;34m(self)\u001b[0m\n\u001b[1;32m   2241\u001b[0m \u001b[39mdef\u001b[39;00m \u001b[39m__iter__\u001b[39m(\u001b[39mself\u001b[39m):\n\u001b[1;32m   2242\u001b[0m     \u001b[39mfor\u001b[39;00m idx \u001b[39min\u001b[39;00m \u001b[39mrange\u001b[39m(\u001b[39m*\u001b[39m\u001b[39mself\u001b[39m\u001b[39m.\u001b[39m_indices):\n\u001b[0;32m-> 2243\u001b[0m         \u001b[39myield\u001b[39;00m \u001b[39mself\u001b[39;49m\u001b[39m.\u001b[39;49m_header[(\u001b[39mself\u001b[39;49m\u001b[39m.\u001b[39;49m_keyword, idx)]\n",
      "File \u001b[0;32m~/mambaforge/envs/astropop/lib/python3.11/site-packages/astropy/io/fits/header.py:170\u001b[0m, in \u001b[0;36mHeader.__getitem__\u001b[0;34m(self, key)\u001b[0m\n\u001b[1;32m    167\u001b[0m \u001b[39melse\u001b[39;00m:\n\u001b[1;32m    168\u001b[0m     keyword \u001b[39m=\u001b[39m key\n\u001b[0;32m--> 170\u001b[0m card \u001b[39m=\u001b[39m \u001b[39mself\u001b[39m\u001b[39m.\u001b[39m_cards[\u001b[39mself\u001b[39;49m\u001b[39m.\u001b[39;49m_cardindex(key)]\n\u001b[1;32m    172\u001b[0m \u001b[39mif\u001b[39;00m card\u001b[39m.\u001b[39mfield_specifier \u001b[39mis\u001b[39;00m \u001b[39mnot\u001b[39;00m \u001b[39mNone\u001b[39;00m \u001b[39mand\u001b[39;00m keyword \u001b[39m==\u001b[39m card\u001b[39m.\u001b[39mrawkeyword:\n\u001b[1;32m    173\u001b[0m     \u001b[39m# This is RVKC; if only the top-level keyword was specified return\u001b[39;00m\n\u001b[1;32m    174\u001b[0m     \u001b[39m# the raw value, not the parsed out float value\u001b[39;00m\n\u001b[1;32m    175\u001b[0m     \u001b[39mreturn\u001b[39;00m card\u001b[39m.\u001b[39mrawvalue\n",
      "File \u001b[0;32m~/mambaforge/envs/astropop/lib/python3.11/site-packages/astropy/io/fits/header.py:1771\u001b[0m, in \u001b[0;36mHeader._cardindex\u001b[0;34m(self, key)\u001b[0m\n\u001b[1;32m   1768\u001b[0m         indices \u001b[39m=\u001b[39m \u001b[39mself\u001b[39m\u001b[39m.\u001b[39m_rvkc_indices\u001b[39m.\u001b[39mget(keyword, \u001b[39mNone\u001b[39;00m)\n\u001b[1;32m   1770\u001b[0m \u001b[39mif\u001b[39;00m \u001b[39mnot\u001b[39;00m indices:\n\u001b[0;32m-> 1771\u001b[0m     \u001b[39mraise\u001b[39;00m \u001b[39mKeyError\u001b[39;00m(\u001b[39mf\u001b[39m\u001b[39m\"\u001b[39m\u001b[39mKeyword \u001b[39m\u001b[39m{\u001b[39;00mkeyword\u001b[39m!r}\u001b[39;00m\u001b[39m not found.\u001b[39m\u001b[39m\"\u001b[39m)\n\u001b[1;32m   1773\u001b[0m \u001b[39mtry\u001b[39;00m:\n\u001b[1;32m   1774\u001b[0m     \u001b[39mreturn\u001b[39;00m indices[n]\n",
      "\u001b[0;31mKeyError\u001b[0m: \"Keyword 'HISTORY' not found.\""
     ]
    }
   ],
   "source": [
    "frame = read_framedata(image_name)\n",
    "bkg, rms = background(frame.data)\n",
    "sources = starfind(frame.data, background=bkg, noise=rms, threshold=20)\n",
    "width, height = frame.shape"
   ]
  },
  {
   "cell_type": "code",
   "execution_count": null,
   "id": "1266d586",
   "metadata": {},
   "outputs": [],
   "source": [
    "sol = solve_astrometry_xy(sources['x'], sources['y'], sources['flux'],\n",
    "                          width=width, height=height,\n",
    "                          options={'add_path': indexes_path,\n",
    "                                  'ra': image_ra, 'dec': image_dec, 'radius': search_radius,\n",
    "                                  'crpix-center': None, 'tweak-order': 4},\n",
    "                          stdout_loglevel='INFO')"
   ]
  },
  {
   "cell_type": "code",
   "execution_count": null,
   "id": "42cb74d0",
   "metadata": {},
   "outputs": [],
   "source": [
    "sol.wcs"
   ]
  },
  {
   "attachments": {},
   "cell_type": "markdown",
   "id": "f3916a68",
   "metadata": {},
   "source": [
    "# solve_astrometry_framedata"
   ]
  },
  {
   "cell_type": "code",
   "execution_count": null,
   "id": "2262b10a",
   "metadata": {},
   "outputs": [],
   "source": [
    "sol = solve_astrometry_framedata(frame,\n",
    "                                 options={'add_path': indexes_path,\n",
    "                                          'ra': image_ra, 'dec': image_dec, 'radius': search_radius,\n",
    "                                          'crpix-center': None, 'tweak-order': 4},\n",
    "                                 stdout_loglevel='INFO')"
   ]
  },
  {
   "cell_type": "code",
   "execution_count": null,
   "id": "c38c8e51",
   "metadata": {},
   "outputs": [],
   "source": [
    "sol.wcs"
   ]
  },
  {
   "attachments": {},
   "cell_type": "markdown",
   "id": "726c5c86",
   "metadata": {},
   "source": [
    "# AstrometricSolution"
   ]
  },
  {
   "cell_type": "code",
   "execution_count": 26,
   "id": "f9b7a40c",
   "metadata": {},
   "outputs": [
    {
     "data": {
      "text/plain": [
       "WCS Keywords\n",
       "\n",
       "Number of WCS axes: 2\n",
       "CTYPE : 'RA---TAN-SIP'  'DEC--TAN-SIP'  \n",
       "CRVAL : 132.845996628  11.8137489136  \n",
       "CRPIX : 150.5  150.5  \n",
       "CD1_1 CD1_2  : -0.000666646299846  1.75696203662e-07  \n",
       "CD2_1 CD2_2  : 1.17094852931e-07  0.000666605100714  \n",
       "NAXIS : 0  0"
      ]
     },
     "execution_count": 26,
     "metadata": {},
     "output_type": "execute_result"
    }
   ],
   "source": [
    "solution.wcs"
   ]
  },
  {
   "cell_type": "code",
   "execution_count": 27,
   "id": "886d4e22",
   "metadata": {},
   "outputs": [
    {
     "data": {
      "text/plain": [
       "SIMPLE  =                    T / Standard FITS file                             \n",
       "BITPIX  =                    8 / ASCII or bytes array                           \n",
       "NAXIS   =                    0 / Minimal header                                 \n",
       "EXTEND  =                    T / There may be FITS ext                          \n",
       "WCSAXES =                    2 / no comment                                     \n",
       "CTYPE1  = 'RA---TAN-SIP' / TAN (gnomic) projection + SIP distortions            \n",
       "CTYPE2  = 'DEC--TAN-SIP' / TAN (gnomic) projection + SIP distortions            \n",
       "EQUINOX =               2000.0 / Equatorial coordinates definition (yr)         \n",
       "LONPOLE =                180.0 / no comment                                     \n",
       "LATPOLE =                  0.0 / no comment                                     \n",
       "CRVAL1  =        132.845996628 / RA  of reference point                         \n",
       "CRVAL2  =        11.8137489136 / DEC of reference point                         \n",
       "CRPIX1  =                150.5 / X reference pixel                              \n",
       "CRPIX2  =                150.5 / Y reference pixel                              \n",
       "CUNIT1  = 'deg     ' / X pixel scale units                                      \n",
       "CUNIT2  = 'deg     ' / Y pixel scale units                                      \n",
       "CD1_1   =   -0.000666646299846 / Transformation matrix                          \n",
       "CD1_2   =    1.75696203662E-07 / no comment                                     \n",
       "CD2_1   =    1.17094852931E-07 / no comment                                     \n",
       "CD2_2   =    0.000666605100714 / no comment                                     \n",
       "IMAGEW  =                  300 / Image width,  in pixels.                       \n",
       "IMAGEH  =                  300 / Image height, in pixels.                       \n",
       "A_ORDER =                    2 / Polynomial order, axis 1                       \n",
       "A_0_0   =                    0 / no comment                                     \n",
       "A_0_1   =                    0 / no comment                                     \n",
       "A_0_2   =   -3.91735065682E-06 / no comment                                     \n",
       "A_1_0   =                    0 / no comment                                     \n",
       "A_1_1   =   -4.67347877096E-06 / no comment                                     \n",
       "A_2_0   =   -6.12689758761E-06 / no comment                                     \n",
       "B_ORDER =                    2 / Polynomial order, axis 2                       \n",
       "B_0_0   =                    0 / no comment                                     \n",
       "B_0_1   =                    0 / no comment                                     \n",
       "B_0_2   =   -8.23223243829E-06 / no comment                                     \n",
       "B_1_0   =                    0 / no comment                                     \n",
       "B_1_1   =   -3.38321005025E-06 / no comment                                     \n",
       "B_2_0   =   -4.69867888015E-06 / no comment                                     \n",
       "AP_ORDER=                    2 / Inv polynomial order, axis 1                   \n",
       "AP_0_0  =    2.93267413041E-06 / no comment                                     \n",
       "AP_0_1  =    2.30346174492E-06 / no comment                                     \n",
       "AP_0_2  =     3.9171417438E-06 / no comment                                     \n",
       "AP_1_0  =    2.47885106341E-06 / no comment                                     \n",
       "AP_1_1  =    4.67318187017E-06 / no comment                                     \n",
       "AP_2_0  =    6.12666399728E-06 / no comment                                     \n",
       "BP_ORDER=                    2 / Inv polynomial order, axis 2                   \n",
       "BP_0_0  =    3.38470464881E-06 / no comment                                     \n",
       "BP_0_1  =    3.37391149546E-06 / no comment                                     \n",
       "BP_0_2  =    8.23191743817E-06 / no comment                                     \n",
       "BP_1_0  =    2.15017754041E-06 / no comment                                     \n",
       "BP_1_1  =    3.38289545915E-06 / no comment                                     \n",
       "BP_2_0  =    4.69847526409E-06 / no comment                                     \n",
       "HISTORY Created by the Astrometry.net suite.                                    \n",
       "HISTORY For more details, see http://astrometry.net.                            \n",
       "HISTORY Git URL https://github.com/dstndstn/astrometry.net                      \n",
       "HISTORY Git revision                                                            \n",
       "HISTORY Git date Mon_May_1_14:41:12_2023_-0300                                  \n",
       "HISTORY This is a WCS header was created by Astrometry.net.                     \n",
       "DATE    = '2023-06-13T19:25:16' / Date this file was created.                   \n",
       "COMMENT -- onefield solver parameters: --                                       \n",
       "COMMENT Index(0):                                                               \n",
       "COMMENT   /home/julio/mambaforge/envs/astropop/data/index-4107.fits             \n",
       "COMMENT Index(1):                                                               \n",
       "COMMENT   /home/julio/Astrometry/INDEXES/5200/index-5206-04.fits                \n",
       "COMMENT Index(2):                                                               \n",
       "COMMENT   /home/julio/Astrometry/INDEXES/5200/index-5205-04.fits                \n",
       "COMMENT Index(3):                                                               \n",
       "COMMENT   /home/julio/Astrometry/INDEXES/5200/index-5204-04.fits                \n",
       "COMMENT Index(4):                                                               \n",
       "COMMENT   /home/julio/Astrometry/INDEXES/5200/index-5203-04.fits                \n",
       "COMMENT Index(5):                                                               \n",
       "COMMENT   /home/julio/Astrometry/INDEXES/5200/index-5202-04.fits                \n",
       "COMMENT Field name: /tmp/M67_i_1iwddz_astrometry.net/M67.axy                    \n",
       "COMMENT Field scale lower: 1.2 arcsec/pixel                                     \n",
       "COMMENT Field scale upper: 2160 arcsec/pixel                                    \n",
       "COMMENT X col name: X                                                           \n",
       "COMMENT Y col name: Y                                                           \n",
       "COMMENT Start obj: 0                                                            \n",
       "COMMENT End obj: 10                                                             \n",
       "COMMENT Solved_in: (null)                                                       \n",
       "COMMENT Solved_out: /tmp/M67_i_1iwddz_astrometry.net/M67.solved                 \n",
       "COMMENT Parity: 2                                                               \n",
       "COMMENT Codetol: 0.01                                                           \n",
       "COMMENT Verify pixels: 1 pix                                                    \n",
       "COMMENT Maxquads: 0                                                             \n",
       "COMMENT Maxmatches: 0                                                           \n",
       "COMMENT Cpu limit: 300.000000 s                                                 \n",
       "COMMENT Time limit: 0 s                                                         \n",
       "COMMENT Total time limit: 0 s                                                   \n",
       "COMMENT Total CPU limit: 300.000000 s                                           \n",
       "COMMENT Tweak: yes                                                              \n",
       "COMMENT Tweak AB order: 2                                                       \n",
       "COMMENT Tweak ABP order: 2                                                      \n",
       "COMMENT --                                                                      \n",
       "COMMENT -- properties of the matching quad: --                                  \n",
       "COMMENT index id: 5202                                                          \n",
       "COMMENT index healpix: 4                                                        \n",
       "COMMENT index hpnside: 2                                                        \n",
       "COMMENT log odds: 386.498                                                       \n",
       "COMMENT odds: 7.14467e+167                                                      \n",
       "COMMENT quadno: 0                                                               \n",
       "COMMENT stars: 0,0,0,0                                                          \n",
       "COMMENT field: 0,0,0,0                                                          \n",
       "COMMENT code error: 0                                                           \n",
       "COMMENT nmatch: 99                                                              \n",
       "COMMENT nconflict: 0                                                            \n",
       "COMMENT nfield: 305                                                             \n",
       "COMMENT nindex: 104                                                             \n",
       "COMMENT scale: 2.39985 arcsec/pix                                               \n",
       "COMMENT parity: 0                                                               \n",
       "COMMENT quads tried: 0                                                          \n",
       "COMMENT quads matched: 0                                                        \n",
       "COMMENT quads verified: 0                                                       \n",
       "COMMENT objs tried: 1                                                           \n",
       "COMMENT cpu time: 1.49296                                                       \n",
       "COMMENT --                                                                      "
      ]
     },
     "execution_count": 27,
     "metadata": {},
     "output_type": "execute_result"
    }
   ],
   "source": [
    "solution.header"
   ]
  },
  {
   "cell_type": "code",
   "execution_count": 28,
   "id": "3c51cce1",
   "metadata": {},
   "outputs": [
    {
     "data": {
      "text/html": [
       "<div><i>Table length=99</i>\n",
       "<table id=\"table140376434465808\" class=\"table-striped table-bordered table-condensed\">\n",
       "<thead><tr><th>field_x</th><th>field_y</th><th>field_ra</th><th>field_dec</th><th>index_x</th><th>index_y</th><th>index_ra</th><th>index_dec</th><th>index_id</th><th>field_id</th><th>match_weight</th><th>FLUX</th><th>BACKGROUND</th></tr></thead>\n",
       "<thead><tr><th>pixels</th><th>pixels</th><th>degrees</th><th>degrees</th><th>pixels</th><th>pixels</th><th>degrees</th><th>degrees</th><th>none</th><th>none</th><th>none</th><th>unknown</th><th>unknown</th></tr></thead>\n",
       "<thead><tr><th>float64</th><th>float64</th><th>float64</th><th>float64</th><th>float64</th><th>float64</th><th>float64</th><th>float64</th><th>int32</th><th>int32</th><th>float64</th><th>float32</th><th>float32</th></tr></thead>\n",
       "<tr><td>34.85548400878906</td><td>20.532312393188477</td><td>132.92485923212246</td><td>11.726919008467611</td><td>35.05859699792801</td><td>20.642018010728464</td><td>132.9247207495702</td><td>11.72699240886807</td><td>11</td><td>0</td><td>0.9898638113267965</td><td>9302.139</td><td>3911.8613</td></tr>\n",
       "<tr><td>46.37539291381836</td><td>248.11927795410156</td><td>132.91698566957803</td><td>11.878738007165833</td><td>46.44105277142182</td><td>248.07053263630593</td><td>132.91694086840715</td><td>11.87870558548878</td><td>101</td><td>1</td><td>0.9901592131420947</td><td>9018.018</td><td>4202.9824</td></tr>\n",
       "<tr><td>158.05941772460938</td><td>12.409916877746582</td><td>132.84087281675698</td><td>11.721595802636996</td><td>157.95063650953037</td><td>12.399268873090847</td><td>132.84094685781446</td><td>11.721588701279531</td><td>92</td><td>2</td><td>0.9901705766448283</td><td>9122.119</td><td>3944.8809</td></tr>\n",
       "<tr><td>296.3533020019531</td><td>85.46388244628906</td><td>132.74673394046354</td><td>11.77032696042933</td><td>296.32845369070515</td><td>85.37248838710052</td><td>132.746750859307</td><td>11.770265999806785</td><td>41</td><td>5</td><td>0.9901176377427999</td><td>9003.846</td><td>3964.1543</td></tr>\n",
       "<tr><td>297.58489990234375</td><td>154.1095428466797</td><td>132.7459130066678</td><td>11.816085710101218</td><td>297.5441019357298</td><td>153.9454298381467</td><td>132.7459407077159</td><td>11.815976361442809</td><td>77</td><td>6</td><td>0.9900533600010665</td><td>8981.352</td><td>4003.6484</td></tr>\n",
       "<tr><td>104.5924072265625</td><td>160.32260131835938</td><td>132.87727315205524</td><td>11.820283507708053</td><td>104.47654764184021</td><td>160.39149675577605</td><td>132.8773520589947</td><td>11.820329419233394</td><td>91</td><td>7</td><td>0.9902863961611872</td><td>8815.066</td><td>4179.9336</td></tr>\n",
       "<tr><td>17.85403823852539</td><td>55.490848541259766</td><td>132.93643765005882</td><td>11.750252499056753</td><td>17.888205105803195</td><td>55.637655475439246</td><td>132.93641435158702</td><td>11.750350535263108</td><td>76</td><td>10</td><td>0.9900425018276018</td><td>9073.695</td><td>3964.3047</td></tr>\n",
       "<tr><td>271.6463928222656</td><td>74.68538665771484</td><td>132.76353614430153</td><td>11.763156055690384</td><td>271.6696423810698</td><td>74.6869161967365</td><td>132.76352036461677</td><td>11.763157050016662</td><td>17</td><td>12</td><td>0.9902069422150418</td><td>8988.049</td><td>3990.9512</td></tr>\n",
       "<tr><td>48.340694427490234</td><td>3.0545544624328613</td><td>132.91567242708692</td><td>11.715254751320025</td><td>48.123601179379804</td><td>2.8344239466871386</td><td>132.91582087833066</td><td>11.715107083848498</td><td>42</td><td>18</td><td>0.989639591808067</td><td>9065.251</td><td>3882.749</td></tr>\n",
       "<tr><td>...</td><td>...</td><td>...</td><td>...</td><td>...</td><td>...</td><td>...</td><td>...</td><td>...</td><td>...</td><td>...</td><td>...</td><td>...</td></tr>\n",
       "<tr><td>169.67686462402344</td><td>105.11981201171875</td><td>132.83293334514514</td><td>11.783489708412525</td><td>169.73364171397486</td><td>105.0414985897223</td><td>132.8328946493227</td><td>11.78343753824705</td><td>38</td><td>215</td><td>0.9903324119651804</td><td>8580.625</td><td>4123.375</td></tr>\n",
       "<tr><td>152.23696899414062</td><td>130.33053588867188</td><td>132.84481104987415</td><td>11.800301884078692</td><td>152.00793357068218</td><td>130.60065132206938</td><td>132.84496703747175</td><td>11.800482008277303</td><td>13</td><td>223</td><td>0.9897793381634776</td><td>8532.063</td><td>4159.9365</td></tr>\n",
       "<tr><td>161.37730407714844</td><td>285.91522216796875</td><td>132.83866436585237</td><td>11.903914165601751</td><td>161.34375564076308</td><td>286.076103910454</td><td>132.83868742196694</td><td>11.904021124758067</td><td>84</td><td>224</td><td>0.9900771127391476</td><td>8308.814</td><td>4127.1855</td></tr>\n",
       "<tr><td>104.89988708496094</td><td>153.90640258789062</td><td>132.8770626912199</td><td>11.816006383633527</td><td>105.22237249558749</td><td>154.17916716010458</td><td>132.8768429064829</td><td>11.816188428880194</td><td>34</td><td>262</td><td>0.9894898292531018</td><td>8456.971</td><td>4175.0293</td></tr>\n",
       "<tr><td>186.90518188476562</td><td>136.65670776367188</td><td>132.82120484529247</td><td>11.804520026250378</td><td>186.91352772962404</td><td>136.59599374084468</td><td>132.82119919328568</td><td>11.804479526376664</td><td>2</td><td>276</td><td>0.9903646598593985</td><td>8452.031</td><td>4149.9688</td></tr>\n",
       "<tr><td>146.00518798828125</td><td>175.53097534179688</td><td>132.84906399814798</td><td>11.830430898082952</td><td>146.08151993632447</td><td>175.42427771206337</td><td>132.84901201085265</td><td>11.830359757898878</td><td>74</td><td>286</td><td>0.9903045240350038</td><td>8396.582</td><td>4189.418</td></tr>\n",
       "<tr><td>127.32862854003906</td><td>146.93548583984375</td><td>132.86177977329945</td><td>11.811367703328218</td><td>127.38525921075706</td><td>146.76613051989798</td><td>132.8617411293608</td><td>11.811254850582998</td><td>12</td><td>290</td><td>0.9902376979083394</td><td>8402.828</td><td>4176.172</td></tr>\n",
       "<tr><td>108.56771087646484</td><td>111.88805389404297</td><td>132.87456240479864</td><td>11.787986317889398</td><td>108.57477836438284</td><td>111.91645983070283</td><td>132.8745574758247</td><td>11.788005395789888</td><td>0</td><td>293</td><td>0.9903639680415182</td><td>8335.135</td><td>4124.865</td></tr>\n",
       "<tr><td>114.29121398925781</td><td>193.98414611816406</td><td>132.8706733544448</td><td>11.842719424536138</td><td>114.18220116066962</td><td>193.68832004377808</td><td>132.8707475284257</td><td>11.842522266941202</td><td>6</td><td>294</td><td>0.9898766954339749</td><td>8254.215</td><td>4195.785</td></tr>\n",
       "<tr><td>187.16561889648438</td><td>198.71163940429688</td><td>132.82104784256768</td><td>11.845869281297484</td><td>187.30744637526865</td><td>199.26358006183116</td><td>132.82095168993686</td><td>11.846236693420092</td><td>25</td><td>296</td><td>0.9886854103421772</td><td>8255.477</td><td>4156.5234</td></tr>\n",
       "</table></div>"
      ],
      "text/plain": [
       "<Table length=99>\n",
       "     field_x            field_y            field_ra      ...   FLUX   BACKGROUND\n",
       "      pixels             pixels            degrees       ... unknown   unknown  \n",
       "     float64            float64            float64       ... float32   float32  \n",
       "------------------ ------------------ ------------------ ... -------- ----------\n",
       " 34.85548400878906 20.532312393188477 132.92485923212246 ... 9302.139  3911.8613\n",
       " 46.37539291381836 248.11927795410156 132.91698566957803 ... 9018.018  4202.9824\n",
       "158.05941772460938 12.409916877746582 132.84087281675698 ... 9122.119  3944.8809\n",
       " 296.3533020019531  85.46388244628906 132.74673394046354 ... 9003.846  3964.1543\n",
       "297.58489990234375  154.1095428466797  132.7459130066678 ... 8981.352  4003.6484\n",
       " 104.5924072265625 160.32260131835938 132.87727315205524 ... 8815.066  4179.9336\n",
       " 17.85403823852539 55.490848541259766 132.93643765005882 ... 9073.695  3964.3047\n",
       " 271.6463928222656  74.68538665771484 132.76353614430153 ... 8988.049  3990.9512\n",
       "48.340694427490234 3.0545544624328613 132.91567242708692 ... 9065.251   3882.749\n",
       "               ...                ...                ... ...      ...        ...\n",
       "169.67686462402344 105.11981201171875 132.83293334514514 ... 8580.625   4123.375\n",
       "152.23696899414062 130.33053588867188 132.84481104987415 ... 8532.063  4159.9365\n",
       "161.37730407714844 285.91522216796875 132.83866436585237 ... 8308.814  4127.1855\n",
       "104.89988708496094 153.90640258789062  132.8770626912199 ... 8456.971  4175.0293\n",
       "186.90518188476562 136.65670776367188 132.82120484529247 ... 8452.031  4149.9688\n",
       "146.00518798828125 175.53097534179688 132.84906399814798 ... 8396.582   4189.418\n",
       "127.32862854003906 146.93548583984375 132.86177977329945 ... 8402.828   4176.172\n",
       "108.56771087646484 111.88805389404297 132.87456240479864 ... 8335.135   4124.865\n",
       "114.29121398925781 193.98414611816406  132.8706733544448 ... 8254.215   4195.785\n",
       "187.16561889648438 198.71163940429688 132.82104784256768 ... 8255.477  4156.5234"
      ]
     },
     "execution_count": 28,
     "metadata": {},
     "output_type": "execute_result"
    }
   ],
   "source": [
    "solution.correspondences"
   ]
  }
 ],
 "metadata": {
  "kernelspec": {
   "display_name": "Python 3 (ipykernel)",
   "language": "python",
   "name": "python3"
  },
  "language_info": {
   "codemirror_mode": {
    "name": "ipython",
    "version": 3
   },
   "file_extension": ".py",
   "mimetype": "text/x-python",
   "name": "python",
   "nbconvert_exporter": "python",
   "pygments_lexer": "ipython3",
   "version": "3.11.3"
  }
 },
 "nbformat": 4,
 "nbformat_minor": 5
}
