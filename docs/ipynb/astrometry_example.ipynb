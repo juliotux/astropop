{
 "cells": [
  {
   "cell_type": "code",
   "execution_count": null,
   "id": "65208145",
   "metadata": {},
   "outputs": [],
   "source": [
    "from astropop.astrometry import AstrometrySolver, solve_astrometry_framedata, solve_astrometry_xy\n",
    "from astropop.photometry import background, starfind\n",
    "from astropop.framedata import FrameData, read_framedata\n",
    "from astropy.io import fits\n",
    "from astropy.coordinates import Angle\n",
    "\n",
    "from astroquery.skyview import SkyView"
   ]
  },
  {
   "cell_type": "code",
   "execution_count": null,
   "id": "c1745a8e",
   "metadata": {},
   "outputs": [],
   "source": [
    "image_name = '/home/julio/Astronomy/M67.fits'\n",
    "image_ra = '08:50:00'\n",
    "image_dec = '11:50:00'\n",
    "search_radius = '1 deg'\n",
    "indexes_path = '/home/julio/Astronomy/INDEXES/5200-gaia'\n",
    "\n",
    "# download DSS image of M67 using SkyView\n",
    "dss_image = SkyView.get_images(position='M67',\n",
    "                               survey='DSS',\n",
    "                               radius=Angle('0.2 deg'))[0][0]\n",
    "dss_image.writeto(image_name, overwrite=True)"
   ]
  },
  {
   "attachments": {},
   "cell_type": "markdown",
   "id": "03f1d645",
   "metadata": {},
   "source": [
    "# AstrometrySolver class"
   ]
  },
  {
   "cell_type": "code",
   "execution_count": null,
   "id": "dd986737",
   "metadata": {},
   "outputs": [],
   "source": [
    "a = AstrometrySolver()"
   ]
  },
  {
   "cell_type": "code",
   "execution_count": null,
   "id": "47074eb9",
   "metadata": {},
   "outputs": [],
   "source": [
    "solution = a.solve_field(image_name,\n",
    "                         options={'add_path': indexes_path,\n",
    "                                  'ra': image_ra, 'dec': image_dec, 'radius': search_radius},\n",
    "                         stdout_loglevel='INFO')"
   ]
  },
  {
   "cell_type": "code",
   "execution_count": null,
   "id": "a394d5c2",
   "metadata": {},
   "outputs": [],
   "source": [
    "print(solution.wcs)"
   ]
  },
  {
   "attachments": {},
   "cell_type": "markdown",
   "id": "ae4ab05d",
   "metadata": {},
   "source": [
    "# solve_astrometry_xy"
   ]
  },
  {
   "cell_type": "code",
   "execution_count": null,
   "id": "2a7e370b",
   "metadata": {},
   "outputs": [],
   "source": [
    "frame = read_framedata(image_name)\n",
    "bkg, rms = background(frame.data)\n",
    "sources = starfind(frame.data, background=bkg, noise=rms, threshold=20)\n",
    "width, height = frame.data.shape"
   ]
  },
  {
   "cell_type": "code",
   "execution_count": null,
   "id": "1266d586",
   "metadata": {},
   "outputs": [],
   "source": [
    "sol = solve_astrometry_xy(sources['x'], sources['y'], sources['flux'],\n",
    "                          width=width, height=height,\n",
    "                          options={'add_path': indexes_path,\n",
    "                                  'ra': image_ra, 'dec': image_dec, 'radius': search_radius,\n",
    "                                  'crpix-center': None, 'tweak-order': 4},\n",
    "                          stdout_loglevel='INFO')"
   ]
  },
  {
   "cell_type": "code",
   "execution_count": null,
   "id": "42cb74d0",
   "metadata": {},
   "outputs": [],
   "source": [
    "sol.header"
   ]
  },
  {
   "attachments": {},
   "cell_type": "markdown",
   "id": "f3916a68",
   "metadata": {},
   "source": [
    "# solve_astrometry_framedata"
   ]
  },
  {
   "cell_type": "code",
   "execution_count": null,
   "id": "2262b10a",
   "metadata": {},
   "outputs": [],
   "source": [
    "sol = solve_astrometry_framedata(frame,\n",
    "                                 options={'add_path': indexes_path,\n",
    "                                          'ra': image_ra, 'dec': image_dec, 'radius': search_radius,\n",
    "                                          'crpix-center': None, 'tweak-order': 4},\n",
    "                                 stdout_loglevel='INFO')"
   ]
  },
  {
   "cell_type": "code",
   "execution_count": null,
   "id": "c38c8e51",
   "metadata": {},
   "outputs": [],
   "source": [
    "sol.wcs"
   ]
  },
  {
   "attachments": {},
   "cell_type": "markdown",
   "id": "726c5c86",
   "metadata": {},
   "source": [
    "# AstrometricSolution"
   ]
  },
  {
   "cell_type": "code",
   "execution_count": null,
   "id": "f9b7a40c",
   "metadata": {},
   "outputs": [],
   "source": [
    "solution.wcs"
   ]
  },
  {
   "cell_type": "code",
   "execution_count": null,
   "id": "886d4e22",
   "metadata": {},
   "outputs": [],
   "source": [
    "solution.header"
   ]
  },
  {
   "cell_type": "code",
   "execution_count": null,
   "id": "3c51cce1",
   "metadata": {},
   "outputs": [],
   "source": [
    "solution.correspondences"
   ]
  }
 ],
 "metadata": {
  "kernelspec": {
   "display_name": "Python 3 (ipykernel)",
   "language": "python",
   "name": "python3"
  },
  "language_info": {
   "codemirror_mode": {
    "name": "ipython",
    "version": 3
   },
   "file_extension": ".py",
   "mimetype": "text/x-python",
   "name": "python",
   "nbconvert_exporter": "python",
   "pygments_lexer": "ipython3",
   "version": "3.11.3"
  }
 },
 "nbformat": 4,
 "nbformat_minor": 5
}
