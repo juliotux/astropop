{
 "cells": [
  {
   "cell_type": "markdown",
   "id": "6bd9ceaa",
   "metadata": {},
   "source": [
    "# Vizier"
   ]
  },
  {
   "cell_type": "code",
   "execution_count": 18,
   "id": "3e7dfafe",
   "metadata": {},
   "outputs": [],
   "source": [
    "from astropop.catalogs import vizier\n",
    "from astropy.time import Time"
   ]
  },
  {
   "cell_type": "code",
   "execution_count": 6,
   "id": "6c7f3985",
   "metadata": {},
   "outputs": [
    {
     "name": "stderr",
     "output_type": "stream",
     "text": [
      "2023-01-11 09:02:12,349 astropop - INFO - Quering region centered at <SkyCoord (ICRS): (ra, dec) in deg\n",
      "    (2.71676125, -54.29064972)> with radius 10arcmin  [_sources_catalog]\n"
     ]
    }
   ],
   "source": [
    "cat = vizier.ucac4('HD 674', '10 arcmin')"
   ]
  },
  {
   "cell_type": "code",
   "execution_count": 7,
   "id": "a6897fe8",
   "metadata": {},
   "outputs": [
    {
     "data": {
      "text/plain": [
       "['J', 'H', 'K', 'B', 'V', 'g', 'r', 'i']"
      ]
     },
     "execution_count": 7,
     "metadata": {},
     "output_type": "execute_result"
    }
   ],
   "source": [
    "cat.available_filters"
   ]
  },
  {
   "cell_type": "code",
   "execution_count": 8,
   "id": "b93d5cde",
   "metadata": {},
   "outputs": [
    {
     "data": {
      "text/html": [
       "<div><i>Table length=42</i>\n",
       "<table id=\"table139691380132496\" class=\"table-striped table-bordered table-condensed\">\n",
       "<thead><tr><th>id</th><th>ra</th><th>dec</th><th>pm_ra_cosdec</th><th>pm_dec</th><th>J</th><th>J_error</th><th>H</th><th>H_error</th><th>K</th><th>K_error</th><th>B</th><th>B_error</th><th>V</th><th>V_error</th><th>g</th><th>g_error</th><th>r</th><th>r_error</th><th>i</th><th>i_error</th></tr></thead>\n",
       "<thead><tr><th></th><th>deg</th><th>deg</th><th>mas / yr</th><th>mas / yr</th><th></th><th></th><th></th><th></th><th></th><th></th><th></th><th></th><th></th><th></th><th></th><th></th><th></th><th></th><th></th><th></th></tr></thead>\n",
       "<thead><tr><th>str16</th><th>float64</th><th>float64</th><th>float64</th><th>float64</th><th>float64</th><th>float64</th><th>float64</th><th>float64</th><th>float64</th><th>float64</th><th>float64</th><th>float64</th><th>float64</th><th>float64</th><th>float64</th><th>float64</th><th>float64</th><th>float64</th><th>float64</th><th>float64</th></tr></thead>\n",
       "<tr><td>UCAC4 179-000175</td><td>2.7167508999999996</td><td>-54.2906592</td><td>2.1</td><td>7.0</td><td>10.156999588012695</td><td>0.019999999552965164</td><td>10.083000183105469</td><td>0.019999999552965164</td><td>10.029000282287598</td><td>0.019999999552965164</td><td>10.751999855041504</td><td>0.01</td><td>10.597000122070312</td><td>0.07</td><td>nan</td><td>nan</td><td>nan</td><td>nan</td><td>10.687999725341797</td><td>0.01</td></tr>\n",
       "<tr><td>UCAC4 179-000177</td><td>2.7463127</td><td>-54.2873887</td><td>-8.2</td><td>0.2999999999999999</td><td>13.79699993133545</td><td>0.029999999329447746</td><td>13.23799991607666</td><td>0.029999999329447746</td><td>13.102999687194824</td><td>0.029999999329447746</td><td>16.655000686645508</td><td>0.04</td><td>15.657999992370605</td><td>0.04</td><td>16.134000778198242</td><td>0.01</td><td>15.329000473022461</td><td>0.01</td><td>14.92300033569336</td><td>0.01</td></tr>\n",
       "<tr><td>UCAC4 179-000176</td><td>2.722068</td><td>-54.265292</td><td>15.3</td><td>-57.900000000000006</td><td>15.307000160217285</td><td>0.05999999865889549</td><td>14.6899995803833</td><td>0.07000000029802322</td><td>14.565999984741211</td><td>0.10000000149011612</td><td>nan</td><td>nan</td><td>nan</td><td>nan</td><td>nan</td><td>nan</td><td>nan</td><td>nan</td><td>nan</td><td>nan</td></tr>\n",
       "<tr><td>...</td><td>...</td><td>...</td><td>...</td><td>...</td><td>...</td><td>...</td><td>...</td><td>...</td><td>...</td><td>...</td><td>...</td><td>...</td><td>...</td><td>...</td><td>...</td><td>...</td><td>...</td><td>...</td><td>...</td><td>...</td></tr>\n",
       "<tr><td>UCAC4 179-000189</td><td>2.9935983</td><td>-54.2751984</td><td>-141.79999999999998</td><td>-23.9</td><td>15.654000282287598</td><td>0.9900000095367432</td><td>15.697999954223633</td><td>0.14000000059604645</td><td>15.291999816894531</td><td>0.17000000178813934</td><td>nan</td><td>nan</td><td>nan</td><td>nan</td><td>nan</td><td>nan</td><td>nan</td><td>nan</td><td>nan</td><td>nan</td></tr>\n",
       "<tr><td>UCAC4 179-000188</td><td>2.9608708999999993</td><td>-54.2099495</td><td>-42.10000000000001</td><td>-42.5</td><td>6.2769999504089355</td><td>0.019999999552965164</td><td>5.728000164031982</td><td>0.029999999329447746</td><td>5.579999923706055</td><td>0.019999999552965164</td><td>9.855999946594238</td><td>0.01</td><td>9.335000038146973</td><td>0.01</td><td>10.166999816894531</td><td>0.01</td><td>9.086999893188477</td><td>0.01</td><td>8.043999671936035</td><td>0.06</td></tr>\n",
       "<tr><td>UCAC4 178-000197</td><td>2.7849948</td><td>-54.4497548</td><td>16.0</td><td>-7.099999999999999</td><td>14.812999725341797</td><td>0.03999999910593033</td><td>14.395000457763672</td><td>0.07000000029802322</td><td>14.265000343322754</td><td>0.07000000029802322</td><td>17.047000885009766</td><td>0.06</td><td>16.341999053955078</td><td>0.03</td><td>16.6560001373291</td><td>0.01</td><td>15.991000175476074</td><td>0.01</td><td>nan</td><td>nan</td></tr>\n",
       "<tr><td>UCAC4 178-000183</td><td>2.5374603</td><td>-54.4175698</td><td>21.3</td><td>-6.599999999999998</td><td>12.322999954223633</td><td>0.019999999552965164</td><td>11.949999809265137</td><td>0.029999999329447746</td><td>11.878999710083008</td><td>0.019999999552965164</td><td>14.404000282287598</td><td>0.01</td><td>13.680999755859375</td><td>0.03</td><td>13.984000205993652</td><td>0.03</td><td>13.467000007629395</td><td>0.0</td><td>13.26099967956543</td><td>0.01</td></tr>\n",
       "</table></div>"
      ],
      "text/plain": [
       "<Table length=42>\n",
       "       id                ra             dec         pm_ra_cosdec           pm_dec               J          ... g_error         r          r_error         i          i_error\n",
       "                        deg             deg           mas / yr            mas / yr                         ...                                                              \n",
       "     str16            float64         float64         float64             float64            float64       ... float64      float64       float64      float64       float64\n",
       "---------------- ------------------ ----------- ------------------- ------------------- ------------------ ... ------- ------------------ ------- ------------------ -------\n",
       "UCAC4 179-000175 2.7167508999999996 -54.2906592                 2.1                 7.0 10.156999588012695 ...     nan                nan     nan 10.687999725341797    0.01\n",
       "UCAC4 179-000177          2.7463127 -54.2873887                -8.2  0.2999999999999999  13.79699993133545 ...    0.01 15.329000473022461    0.01  14.92300033569336    0.01\n",
       "UCAC4 179-000176           2.722068  -54.265292                15.3 -57.900000000000006 15.307000160217285 ...     nan                nan     nan                nan     nan\n",
       "             ...                ...         ...                 ...                 ...                ... ...     ...                ...     ...                ...     ...\n",
       "UCAC4 179-000189          2.9935983 -54.2751984 -141.79999999999998               -23.9 15.654000282287598 ...     nan                nan     nan                nan     nan\n",
       "UCAC4 179-000188 2.9608708999999993 -54.2099495  -42.10000000000001               -42.5 6.2769999504089355 ...    0.01  9.086999893188477    0.01  8.043999671936035    0.06\n",
       "UCAC4 178-000197          2.7849948 -54.4497548                16.0  -7.099999999999999 14.812999725341797 ...    0.01 15.991000175476074    0.01                nan     nan\n",
       "UCAC4 178-000183          2.5374603 -54.4175698                21.3  -6.599999999999998 12.322999954223633 ...    0.03 13.467000007629395     0.0  13.26099967956543    0.01"
      ]
     },
     "execution_count": 8,
     "metadata": {},
     "output_type": "execute_result"
    }
   ],
   "source": [
    "cat.table()"
   ]
  },
  {
   "cell_type": "code",
   "execution_count": 10,
   "id": "dd27f74e",
   "metadata": {},
   "outputs": [],
   "source": [
    "cat_matched = cat.match_objects(ra=[2.7167509, 2.722068, 2.7849948],\n",
    "                                dec=[-54.2906592, -54.265292, -54.4497548], '1 arcsec')"
   ]
  },
  {
   "cell_type": "code",
   "execution_count": 11,
   "id": "f97647b5",
   "metadata": {},
   "outputs": [
    {
     "data": {
      "text/html": [
       "<div><i>Table length=3</i>\n",
       "<table id=\"table139691380938768\" class=\"table-striped table-bordered table-condensed\">\n",
       "<thead><tr><th>id</th><th>ra</th><th>dec</th><th>pm_ra_cosdec</th><th>pm_dec</th><th>J</th><th>J_error</th><th>H</th><th>H_error</th><th>K</th><th>K_error</th><th>B</th><th>B_error</th><th>V</th><th>V_error</th><th>g</th><th>g_error</th><th>r</th><th>r_error</th><th>i</th><th>i_error</th></tr></thead>\n",
       "<thead><tr><th></th><th>deg</th><th>deg</th><th>mas / yr</th><th>mas / yr</th><th></th><th></th><th></th><th></th><th></th><th></th><th></th><th></th><th></th><th></th><th></th><th></th><th></th><th></th><th></th><th></th></tr></thead>\n",
       "<thead><tr><th>str16</th><th>float64</th><th>float64</th><th>float64</th><th>float64</th><th>float64</th><th>float64</th><th>float64</th><th>float64</th><th>float64</th><th>float64</th><th>float64</th><th>float64</th><th>float64</th><th>float64</th><th>float64</th><th>float64</th><th>float64</th><th>float64</th><th>float64</th><th>float64</th></tr></thead>\n",
       "<tr><td>UCAC4 179-000175</td><td>2.7167508999999996</td><td>-54.2906592</td><td>2.1</td><td>7.0</td><td>10.156999588012695</td><td>0.019999999552965164</td><td>10.083000183105469</td><td>0.019999999552965164</td><td>10.029000282287598</td><td>0.019999999552965164</td><td>10.751999855041504</td><td>0.01</td><td>10.597000122070312</td><td>0.07</td><td>nan</td><td>nan</td><td>nan</td><td>nan</td><td>10.687999725341797</td><td>0.01</td></tr>\n",
       "<tr><td>UCAC4 179-000176</td><td>2.722068</td><td>-54.265292</td><td>15.3</td><td>-57.90000000000002</td><td>15.307000160217285</td><td>0.05999999865889549</td><td>14.6899995803833</td><td>0.07000000029802322</td><td>14.565999984741211</td><td>0.10000000149011612</td><td>nan</td><td>nan</td><td>nan</td><td>nan</td><td>nan</td><td>nan</td><td>nan</td><td>nan</td><td>nan</td><td>nan</td></tr>\n",
       "<tr><td>UCAC4 178-000197</td><td>2.7849948</td><td>-54.4497548</td><td>16.0</td><td>-7.099999999999998</td><td>14.812999725341797</td><td>0.03999999910593033</td><td>14.395000457763672</td><td>0.07000000029802322</td><td>14.265000343322754</td><td>0.07000000029802322</td><td>17.047000885009766</td><td>0.06</td><td>16.341999053955078</td><td>0.03</td><td>16.6560001373291</td><td>0.01</td><td>15.991000175476074</td><td>0.01</td><td>nan</td><td>nan</td></tr>\n",
       "</table></div>"
      ],
      "text/plain": [
       "<Table length=3>\n",
       "       id                ra             dec     pm_ra_cosdec       pm_dec               J          ...        g         g_error         r          r_error         i          i_error\n",
       "                        deg             deg       mas / yr        mas / yr                         ...                                                                               \n",
       "     str16            float64         float64     float64         float64            float64       ...     float64      float64      float64       float64      float64       float64\n",
       "---------------- ------------------ ----------- ------------ ------------------ ------------------ ... ---------------- ------- ------------------ ------- ------------------ -------\n",
       "UCAC4 179-000175 2.7167508999999996 -54.2906592          2.1                7.0 10.156999588012695 ...              nan     nan                nan     nan 10.687999725341797    0.01\n",
       "UCAC4 179-000176           2.722068  -54.265292         15.3 -57.90000000000002 15.307000160217285 ...              nan     nan                nan     nan                nan     nan\n",
       "UCAC4 178-000197          2.7849948 -54.4497548         16.0 -7.099999999999998 14.812999725341797 ... 16.6560001373291    0.01 15.991000175476074    0.01                nan     nan"
      ]
     },
     "execution_count": 11,
     "metadata": {},
     "output_type": "execute_result"
    }
   ],
   "source": [
    "cat_matched.table()"
   ]
  },
  {
   "cell_type": "code",
   "execution_count": 14,
   "id": "911d8026",
   "metadata": {},
   "outputs": [
    {
     "data": {
      "text/plain": [
       "<QFloat\n",
       "array([10.75+-0.01, nan+-nan, 17.05+-0.06], dtype=object)\n",
       "unit=mag>"
      ]
     },
     "execution_count": 14,
     "metadata": {},
     "output_type": "execute_result"
    }
   ],
   "source": [
    "cat_matched.magnitude('B')"
   ]
  },
  {
   "cell_type": "code",
   "execution_count": 22,
   "id": "d2556374",
   "metadata": {},
   "outputs": [
    {
     "data": {
      "text/plain": [
       "array([[1.07519999e+01, 1.00000000e-02],\n",
       "       [           nan,            nan],\n",
       "       [1.70470009e+01, 6.00000000e-02]])"
      ]
     },
     "execution_count": 22,
     "metadata": {},
     "output_type": "execute_result"
    }
   ],
   "source": [
    "cat_matched.mag_list('B')"
   ]
  },
  {
   "cell_type": "code",
   "execution_count": 15,
   "id": "2753f12b",
   "metadata": {},
   "outputs": [
    {
     "data": {
      "text/plain": [
       "<SkyCoord (ICRS): (ra, dec) in deg\n",
       "    [(2.7167509, -54.2906592), (2.722068 , -54.265292 ),\n",
       "     (2.7849948, -54.4497548)]\n",
       " (pm_ra_cosdec, pm_dec) in mas / yr\n",
       "    [( 2.1,   7. ), (15.3, -57.9), (16. ,  -7.1)]>"
      ]
     },
     "execution_count": 15,
     "metadata": {},
     "output_type": "execute_result"
    }
   ],
   "source": [
    "cat_matched.skycoord()"
   ]
  },
  {
   "cell_type": "markdown",
   "id": "adefb36e",
   "metadata": {},
   "source": [
    "# Simbad"
   ]
  },
  {
   "cell_type": "code",
   "execution_count": 23,
   "id": "f2bada83",
   "metadata": {},
   "outputs": [],
   "source": [
    "from astropop.catalogs import simbad"
   ]
  },
  {
   "cell_type": "code",
   "execution_count": 31,
   "id": "f8174bc4",
   "metadata": {},
   "outputs": [
    {
     "data": {
      "text/plain": [
       "array('alf CMa', dtype='<U7')"
      ]
     },
     "execution_count": 31,
     "metadata": {},
     "output_type": "execute_result"
    }
   ],
   "source": [
    "simbad.simbad_query_id(101.28715, -16.7161158, '10 arcsec')"
   ]
  },
  {
   "cell_type": "code",
   "execution_count": 28,
   "id": "bcd9f581",
   "metadata": {},
   "outputs": [
    {
     "data": {
      "text/plain": [
       "array('HD 48915', dtype='<U8')"
      ]
     },
     "execution_count": 28,
     "metadata": {},
     "output_type": "execute_result"
    }
   ],
   "source": [
    "simbad.simbad_query_id(101.28715, -16.7161158, '10 arcsec', name_order=['HD', 'HR', 'HYP', 'TYC', 'AAVSO'])"
   ]
  },
  {
   "cell_type": "code",
   "execution_count": 35,
   "id": "de6d21c5",
   "metadata": {},
   "outputs": [
    {
     "name": "stderr",
     "output_type": "stream",
     "text": [
      "2023-01-11 09:38:39,328 astropop - INFO - Quering region centered at <SkyCoord (ICRS): (ra, dec) in deg\n",
      "    (101.287155, -16.71611583)> with radius 10arcmin  [_sources_catalog]\n"
     ]
    }
   ],
   "source": [
    "cat = simbad.SimbadSourcesCatalog('Sirius', '10 arcmin', band=['B', 'V', 'g', 'r', 'i', 'z'])"
   ]
  },
  {
   "cell_type": "code",
   "execution_count": 36,
   "id": "50e2c7d7",
   "metadata": {},
   "outputs": [
    {
     "data": {
      "text/html": [
       "<div><i>Table length=197</i>\n",
       "<table id=\"table139691377343376\" class=\"table-striped table-bordered table-condensed\">\n",
       "<thead><tr><th>id</th><th>ra</th><th>dec</th><th>pm_ra_cosdec</th><th>pm_dec</th><th>B</th><th>B_error</th><th>V</th><th>V_error</th><th>g</th><th>g_error</th><th>r</th><th>r_error</th><th>i</th><th>i_error</th><th>z</th><th>z_error</th></tr></thead>\n",
       "<thead><tr><th></th><th>deg</th><th>deg</th><th>mas / yr</th><th>mas / yr</th><th></th><th></th><th></th><th></th><th></th><th></th><th></th><th></th><th></th><th></th><th></th><th></th></tr></thead>\n",
       "<thead><tr><th>str28</th><th>float64</th><th>float64</th><th>float64</th><th>float64</th><th>float32</th><th>float32</th><th>float32</th><th>float32</th><th>float32</th><th>float32</th><th>float32</th><th>float32</th><th>float32</th><th>float32</th><th>float32</th><th>float32</th></tr></thead>\n",
       "<tr><td>* alf CMa</td><td>101.287155</td><td>-16.716115833333333</td><td>-546.01</td><td>-1223.0699999999997</td><td>-1.46</td><td>nan</td><td>-1.46</td><td>nan</td><td>nan</td><td>nan</td><td>nan</td><td>nan</td><td>nan</td><td>nan</td><td>nan</td><td>nan</td></tr>\n",
       "<tr><td>* alf CMa B</td><td>101.28876708333333</td><td>-16.716867777777775</td><td>-461.571</td><td>-914.5200000000002</td><td>8.41</td><td>nan</td><td>8.44</td><td>nan</td><td>nan</td><td>nan</td><td>nan</td><td>nan</td><td>nan</td><td>nan</td><td>nan</td><td>nan</td></tr>\n",
       "<tr><td>[TSA98] J064510.77-164237.51</td><td>101.29487499999999</td><td>-16.710416666666667</td><td>nan</td><td>nan</td><td>nan</td><td>nan</td><td>nan</td><td>nan</td><td>nan</td><td>nan</td><td>nan</td><td>nan</td><td>nan</td><td>nan</td><td>nan</td><td>nan</td></tr>\n",
       "<tr><td>...</td><td>...</td><td>...</td><td>...</td><td>...</td><td>...</td><td>...</td><td>...</td><td>...</td><td>...</td><td>...</td><td>...</td><td>...</td><td>...</td><td>...</td><td>...</td><td>...</td></tr>\n",
       "<tr><td>Gaia DR3 2947052047079756544</td><td>101.45559458333332</td><td>-16.751795555555557</td><td>0.03799999999999999</td><td>1.2480000000000002</td><td>nan</td><td>nan</td><td>nan</td><td>nan</td><td>nan</td><td>nan</td><td>nan</td><td>nan</td><td>nan</td><td>nan</td><td>nan</td><td>nan</td></tr>\n",
       "<tr><td>Gaia DR3 2947059812380376960</td><td>101.36422041666665</td><td>-16.567816666666666</td><td>0.12400000000000003</td><td>0.955</td><td>nan</td><td>nan</td><td>nan</td><td>nan</td><td>nan</td><td>nan</td><td>nan</td><td>nan</td><td>nan</td><td>nan</td><td>nan</td><td>nan</td></tr>\n",
       "<tr><td>2MASS J06454977-1644464</td><td>101.45743</td><td>-16.74625888888889</td><td>-0.07600000000000001</td><td>1.3470000000000002</td><td>nan</td><td>nan</td><td>nan</td><td>nan</td><td>nan</td><td>nan</td><td>nan</td><td>nan</td><td>nan</td><td>nan</td><td>nan</td><td>nan</td></tr>\n",
       "<tr><td>Gaia DR3 2947055379974326016</td><td>101.44765875</td><td>-16.652292777777777</td><td>-0.0030000000000000027</td><td>1.255</td><td>nan</td><td>nan</td><td>nan</td><td>nan</td><td>nan</td><td>nan</td><td>nan</td><td>nan</td><td>nan</td><td>nan</td><td>nan</td><td>nan</td></tr>\n",
       "</table></div>"
      ],
      "text/plain": [
       "<Table length=197>\n",
       "             id                      ra                 dec              pm_ra_cosdec             pm_dec          B    B_error ...    r    r_error    i    i_error    z    z_error\n",
       "                                    deg                 deg                mas / yr              mas / yr                      ...                                                \n",
       "           str28                  float64             float64              float64               float64       float32 float32 ... float32 float32 float32 float32 float32 float32\n",
       "---------------------------- ------------------ ------------------- ---------------------- ------------------- ------- ------- ... ------- ------- ------- ------- ------- -------\n",
       "                   * alf CMa         101.287155 -16.716115833333333                -546.01 -1223.0699999999997   -1.46     nan ...     nan     nan     nan     nan     nan     nan\n",
       "                 * alf CMa B 101.28876708333333 -16.716867777777775               -461.571  -914.5200000000002    8.41     nan ...     nan     nan     nan     nan     nan     nan\n",
       "[TSA98] J064510.77-164237.51 101.29487499999999 -16.710416666666667                    nan                 nan     nan     nan ...     nan     nan     nan     nan     nan     nan\n",
       "                         ...                ...                 ...                    ...                 ...     ...     ... ...     ...     ...     ...     ...     ...     ...\n",
       "Gaia DR3 2947052047079756544 101.45559458333332 -16.751795555555557    0.03799999999999999  1.2480000000000002     nan     nan ...     nan     nan     nan     nan     nan     nan\n",
       "Gaia DR3 2947059812380376960 101.36422041666665 -16.567816666666666    0.12400000000000003               0.955     nan     nan ...     nan     nan     nan     nan     nan     nan\n",
       "     2MASS J06454977-1644464          101.45743  -16.74625888888889   -0.07600000000000001  1.3470000000000002     nan     nan ...     nan     nan     nan     nan     nan     nan\n",
       "Gaia DR3 2947055379974326016       101.44765875 -16.652292777777777 -0.0030000000000000027               1.255     nan     nan ...     nan     nan     nan     nan     nan     nan"
      ]
     },
     "execution_count": 36,
     "metadata": {},
     "output_type": "execute_result"
    }
   ],
   "source": [
    "cat.table()"
   ]
  },
  {
   "cell_type": "code",
   "execution_count": 37,
   "id": "5fede399",
   "metadata": {},
   "outputs": [
    {
     "name": "stderr",
     "output_type": "stream",
     "text": [
      "/home/julio/.anaconda/envs/astropop/lib/python3.11/site-packages/astropop/math/physical.py:130: RuntimeWarning: invalid value encountered in cast\n",
      "  first_digit = -np.int_(np.floor(np.log10(np.abs(self._s))))\n",
      "/home/julio/.anaconda/envs/astropop/lib/python3.11/site-packages/astropop/math/physical.py:130: RuntimeWarning: overflow encountered in scalar negative\n",
      "  first_digit = -np.int_(np.floor(np.log10(np.abs(self._s))))\n"
     ]
    },
    {
     "data": {
      "text/plain": [
       "<QFloat\n",
       "array([-1.4600000381469727+-nan, 8.4399995803833+-nan, nan+-nan, nan+-nan,\n",
       "       nan+-nan, nan+-nan, nan+-nan, nan+-nan, nan+-nan,\n",
       "       16.399999618530273+-nan, 14.5+-nan, 17.600000381469727+-nan,\n",
       "       nan+-nan, 17.200000762939453+-nan, nan+-nan, nan+-nan,\n",
       "       14.199999809265137+-nan, 17.899999618530273+-nan, nan+-nan,\n",
       "       nan+-nan, 16.600000381469727+-nan, nan+-nan, nan+-nan,\n",
       "       17.799999237060547+-nan, nan+-nan, nan+-nan,\n",
       "       16.799999237060547+-nan, nan+-nan, nan+-nan, nan+-nan, nan+-nan,\n",
       "       nan+-nan, nan+-nan, nan+-nan, nan+-nan, nan+-nan, nan+-nan,\n",
       "       nan+-nan, nan+-nan, nan+-nan, nan+-nan, nan+-nan, nan+-nan,\n",
       "       nan+-nan, nan+-nan, nan+-nan, nan+-nan, nan+-nan, nan+-nan,\n",
       "       nan+-nan, nan+-nan, nan+-nan, nan+-nan, nan+-nan, nan+-nan,\n",
       "       nan+-nan, nan+-nan, nan+-nan, nan+-nan, nan+-nan, nan+-nan,\n",
       "       nan+-nan, nan+-nan, nan+-nan, nan+-nan, nan+-nan, nan+-nan,\n",
       "       nan+-nan, nan+-nan, nan+-nan, nan+-nan, 8.45+-0.01, nan+-nan,\n",
       "       nan+-nan, nan+-nan, nan+-nan, nan+-nan, nan+-nan, nan+-nan,\n",
       "       nan+-nan, nan+-nan, nan+-nan, nan+-nan, nan+-nan, nan+-nan,\n",
       "       nan+-nan, nan+-nan, nan+-nan, nan+-nan, nan+-nan, nan+-nan,\n",
       "       nan+-nan, nan+-nan, nan+-nan, nan+-nan, nan+-nan, nan+-nan,\n",
       "       nan+-nan, nan+-nan, nan+-nan, nan+-nan, 9.100000381469727+-nan,\n",
       "       nan+-nan, nan+-nan, nan+-nan, nan+-nan, 10.34+-0.03, 8.61+-0.01,\n",
       "       nan+-nan, nan+-nan, nan+-nan, nan+-nan, nan+-nan, nan+-nan,\n",
       "       nan+-nan, nan+-nan, nan+-nan, nan+-nan, nan+-nan, nan+-nan,\n",
       "       nan+-nan, nan+-nan, nan+-nan, nan+-nan, nan+-nan, nan+-nan,\n",
       "       nan+-nan, nan+-nan, nan+-nan, nan+-nan, nan+-nan, nan+-nan,\n",
       "       nan+-nan, nan+-nan, nan+-nan, nan+-nan, nan+-nan, nan+-nan,\n",
       "       nan+-nan, nan+-nan, nan+-nan, nan+-nan, nan+-nan, nan+-nan,\n",
       "       nan+-nan, nan+-nan, nan+-nan, nan+-nan, nan+-nan, nan+-nan,\n",
       "       nan+-nan, 12.4+-0.2, 12.6+-0.2, nan+-nan, nan+-nan, nan+-nan,\n",
       "       nan+-nan, nan+-nan, nan+-nan, nan+-nan, nan+-nan, nan+-nan,\n",
       "       nan+-nan, nan+-nan, nan+-nan, nan+-nan, 11.4+-0.1, nan+-nan,\n",
       "       nan+-nan, nan+-nan, nan+-nan, nan+-nan, nan+-nan, nan+-nan,\n",
       "       nan+-nan, nan+-nan, nan+-nan, 10.96+-0.06, nan+-nan, nan+-nan,\n",
       "       10.15+-0.04, nan+-nan, nan+-nan, nan+-nan, nan+-nan, nan+-nan,\n",
       "       nan+-nan, nan+-nan, nan+-nan, nan+-nan, nan+-nan, nan+-nan,\n",
       "       nan+-nan, nan+-nan, nan+-nan, nan+-nan, nan+-nan], dtype=object)\n",
       "unit=mag>"
      ]
     },
     "execution_count": 37,
     "metadata": {},
     "output_type": "execute_result"
    }
   ],
   "source": [
    "cat.magnitude('V')"
   ]
  },
  {
   "cell_type": "code",
   "execution_count": 38,
   "id": "fefbb0f1",
   "metadata": {},
   "outputs": [
    {
     "data": {
      "text/plain": [
       "array(['2002yCat.2237....0D', '', '', '', '', '', '', '', '', '', '', '',\n",
       "       '', '', '', '', '', '', '', '', '', '', '', '', '', '', '', '', '',\n",
       "       '', '', '', '', '', '', '', '', '', '', '', '', '', '', '', '', '',\n",
       "       '', '', '', '', '', '', '', '', '', '', '', '', '', '', '', '', '',\n",
       "       '', '', '', '', '', '', '', '', '2000A&A...355L..27H', '', '', '',\n",
       "       '', '', '', '', '', '', '', '', '', '', '', '', '', '', '', '', '',\n",
       "       '', '', '', '', '', '', '', '', '', '', '', '', '', '',\n",
       "       '2012yCat.1322....0Z', '2000A&A...355L..27H', '', '', '', '', '',\n",
       "       '', '', '', '', '', '', '', '', '', '', '', '', '', '', '', '', '',\n",
       "       '', '', '', '', '', '', '', '', '', '', '', '', '', '', '', '', '',\n",
       "       '', '', '', '', '2000A&A...355L..27H', '2000A&A...355L..27H', '',\n",
       "       '', '', '', '', '', '', '', '', '', '', '', '',\n",
       "       '2000A&A...355L..27H', '', '', '', '', '', '', '', '', '', '',\n",
       "       '2000A&A...355L..27H', '', '', '2000A&A...355L..27H', '', '', '',\n",
       "       '', '', '', '', '', '', '', '', '', '', '', '', ''], dtype=object)"
      ]
     },
     "execution_count": 38,
     "metadata": {},
     "output_type": "execute_result"
    }
   ],
   "source": [
    "cat.magnitudes_bibcode('V')"
   ]
  },
  {
   "cell_type": "code",
   "execution_count": 40,
   "id": "66228184",
   "metadata": {},
   "outputs": [
    {
     "data": {
      "text/plain": [
       "array(['alf CMa', 'alf CMa B', '[TSA98] J064510.77-164237.51',\n",
       "       '[TSA98] J064511.57-164240.56', '[TSA98] J064511.97-164240.59',\n",
       "       '[BCL2000] 7', '[TSA98] J064510.48-164203.49', '[BCL2000] 3',\n",
       "       '[TSA98] J064511.08-164205.53', '[BG91] 3', '[BG91] 2', '[BG91] 7',\n",
       "       '[BCL2000] 4', '[BG91] 4', '[BCL2000] 2', '[BCL2000] 20',\n",
       "       '[BG91] 1', '[BG91] 8', '[BCL2000] 18', '[BCL2000] 1', '[BG91] 5',\n",
       "       '[BCL2000] 12', '[BCL2000] 8', '[BG91] 9', '[BCL2000] 13',\n",
       "       '[BCL2000] 10', '[BG91] 6', '[BCL2000] 5', '[BCL2000] 11',\n",
       "       '[BCL2000] 17', '[BCL2000] 31', '[BCL2000] 9', '[BCL2000] 6',\n",
       "       '[BCL2000] 19', '[BCL2000] 25', '[BCL2000] 14', '[BCL2000] 32',\n",
       "       '[BCL2000] 16', '[BCL2000] 28', 'Gaia DR3 2947056513845762688',\n",
       "       '[BCL2000] 21', '[BCL2000] 22', '[BCL2000] 24', '[BCL2000] 26',\n",
       "       '[BCL2000] 15', 'Gaia DR3 2947057338479481600', '[BCL2000] 23',\n",
       "       'Gaia DR3 2947050088574534912', '[BCL2000] 29', '[BCL2000] 27',\n",
       "       'Gaia DR3 2947056616924962688', 'Gaia DR2 2947056616924962304',\n",
       "       'Gaia DR3 2947049985495334144', 'Gaia DR3 2947046686960684288',\n",
       "       'Gaia DR3 2947046927474251264', 'Gaia DR3 2947046961838568064',\n",
       "       'Gaia DR3 2947051222445894144', 'Gaia DR3 2947049882416355712',\n",
       "       'Gaia DR3 2947046961833962880', 'Gaia DR3 2947057716426121472',\n",
       "       '2MASS J06451026-1638107', 'Gaia DR3 2947057716436367744',\n",
       "       'Gaia DR3 2947057716436368256', 'Gaia DR3 2947057475918406784',\n",
       "       'Gaia DR3 2947052974787751040', 'Gaia DR3 2947057544637672320',\n",
       "       'Gaia DR3 2947056445126259840', 'Gaia DR3 2947046893114490752',\n",
       "       'Gaia DR3 2947053215310882048', 'Gaia DR3 2947053318384494976',\n",
       "       'Gaia DR3 2947062973476413824', 'BD-16 1589',\n",
       "       'Gaia DR3 2947046618241210368', 'Gaia DR3 2947053009152446976',\n",
       "       'Gaia DR3 2947057922594787840', 'Gaia DR3 2947046996198298496',\n",
       "       'Gaia DR3 2947063454512704768', 'V* HM CMa',\n",
       "       'Gaia DR3 2947047030558013312', 'Gaia DR3 2947051188086163584',\n",
       "       'Gaia DR3 2947053009152447744', 'Gaia DR3 2947046996198286464',\n",
       "       'Gaia DR3 2947062939108083456', 'Gaia DR3 2947053112231654784',\n",
       "       'Gaia DR3 2947053009152448256', 'Gaia DR3 2947046240284049920',\n",
       "       'Gaia DR3 2947052906073239552', 'Gaia DR3 2947052940432970880',\n",
       "       'Gaia DR3 2947053112231650688', 'Gaia DR3 2947063759445801472',\n",
       "       'Gaia DR3 2947053146591386496', 'Gaia DR3 2947046377718881408',\n",
       "       'Gaia DR3 2947051050639091712', 'Gaia DR3 2947053112226040576',\n",
       "       'Gaia DR3 2947063042187126400', 'Gaia DR3 2947053799420651008',\n",
       "       'Gaia DR3 2947053043512175488', 'Gaia DR3 2947053146591386880',\n",
       "       'Gaia DR3 2947052940427388032', 'Gaia DR3 2947058193168199680',\n",
       "       'Gaia DR3 2947057132320998528', '2MASS J06444312-1645393',\n",
       "       'Gaia DR3 2947053043512176128', 'Gaia DR3 2947056788723624320',\n",
       "       'Gaia DR3 2947057166680736000', 'Gaia DR3 2947046034121091584',\n",
       "       'UCAC4 366-017119', 'BD-16 1586', 'Gaia DR3 2947052184513149440',\n",
       "       'Gaia DR3 2947053077866286592', 'Gaia DR3 2947052287592345344',\n",
       "       'Gaia DR3 2947056788723617792', 'Gaia DR3 2947056960516520832',\n",
       "       'Gaia DR3 2947045583144147456', 'Gaia DR3 2947062801677752704',\n",
       "       'Gaia DR3 2947052287592331008', 'Gaia DR3 2947053524542746112',\n",
       "       'Gaia DR3 2947053524548490368', 'Gaia DR3 2947053765066652928',\n",
       "       'Gaia DR3 2947046205911573376', 'Gaia DR3 2947053524542748160',\n",
       "       'Gaia DR3 2947057166677262336', 'Gaia DR3 2947069845424004736',\n",
       "       'Gaia DR3 2947063213986222848', 'Gaia DR3 2947053765060880512',\n",
       "       'Gaia DR3 2947056960522300288', 'Gaia DR3 2947056891802824576',\n",
       "       'Gaia DR3 2947053765066644608', 'Gaia DR3 2947052321954275072',\n",
       "       'Gaia DR3 2947058330607198080', 'Gaia DR3 2947052287597930496',\n",
       "       'Gaia DR3 2947052321952046592', 'Gaia DR3 2947053936859354368',\n",
       "       'Gaia DR3 2947058334901241472', 'Gaia DR3 2947045415650451840',\n",
       "       'Gaia DR3 2947058266181753728', 'Gaia DR3 2947052699914775040',\n",
       "       'Gaia DR3 2947053868140078592', 'Gaia DR3 2947052218872864128',\n",
       "       'Gaia DR3 2947052321957663616', 'Gaia DR3 2947070051582425728',\n",
       "       'Gaia DR3 2947053490182998272', 'Gaia DR3 2947052695610021248',\n",
       "       'Gaia DR3 2947056994882032768', 'Gaia DR3 2947052695610021120',\n",
       "       'Gaia DR3 2947052248933421696', 'Gaia DR3 2947053966920386304',\n",
       "       'Gaia DR3 2947052008415251968', 'Gaia DR3 2947056921857885568',\n",
       "       'Gaia DR3 2947053971225058688', 'Gaia DR3 2947052699914771328',\n",
       "       'V* HL CMa', 'TYC 5949-2586-1', 'Gaia DR3 2947053971225058816',\n",
       "       'Gaia DR3 2947052734274507392', 'Gaia DR3 2947053657682743168',\n",
       "       'Gaia DR3 2947058674204540928', 'Gaia DR3 2947053696347155712',\n",
       "       'Gaia DR3 2947053661987419008', 'Gaia DR3 2947052253238189056',\n",
       "       'Gaia DR3 2947051909640821632', 'Gaia DR3 2947052631195300864',\n",
       "       'Gaia DR3 2947051836616561152', 'Gaia DR3 2947070257740854912',\n",
       "       'Gaia DR3 2947051840921346688', 'Gaia DR3 2947052042774994816',\n",
       "       'TYC 5949-2705-1', 'Gaia DR3 2947052631195293056',\n",
       "       'Gaia DR3 2947051836616562432', 'Gaia DR3 2947051840921349248',\n",
       "       'Gaia DR3 2947052047079758592', '2MASS J06454801-1642240',\n",
       "       'Gaia DR3 2947053696347154432', 'Gaia DR3 2947058399326636160',\n",
       "       'Gaia DR3 2947070670047425792', '2MASS J06454837-1643113',\n",
       "       'Gaia DR3 2947052631195294848', 'TYC 5949-2765-1',\n",
       "       'Gaia DR3 2947053588963224320', 'Gaia DR3 2947052042774996480',\n",
       "       'CSS 254', 'Gaia DR3 2947052661250288896',\n",
       "       'Gaia DR3 2946295308189547264', 'Gaia DR3 2947051802256823168',\n",
       "       'Gaia DR3 2947051944000549760', 'Gaia DR3 2946294724078036224',\n",
       "       'Gaia DR3 2947052425036865920', 'Gaia DR3 2947052661250289920',\n",
       "       'Gaia DR3 2946295166458328704', 'Gaia DR3 2947052631195293440',\n",
       "       'Gaia DR3 2947055448693801728', 'Gaia DR3 2947058502405851392',\n",
       "       'Gaia DR3 2947051944000553344', 'Gaia DR3 2947052047079756544',\n",
       "       'Gaia DR3 2947059812380376960', '2MASS J06454977-1644464',\n",
       "       'Gaia DR3 2947055379974326016'], dtype='<U28')"
      ]
     },
     "execution_count": 40,
     "metadata": {},
     "output_type": "execute_result"
    }
   ],
   "source": [
    "simbad.simbad_query_id(cat.skycoord().ra.degree, cat.skycoord().dec.degree, '1 arcsec')"
   ]
  },
  {
   "cell_type": "code",
   "execution_count": null,
   "id": "8605aa44",
   "metadata": {},
   "outputs": [],
   "source": []
  }
 ],
 "metadata": {
  "kernelspec": {
   "display_name": "Python 3 (ipykernel)",
   "language": "python",
   "name": "python3"
  },
  "language_info": {
   "codemirror_mode": {
    "name": "ipython",
    "version": 3
   },
   "file_extension": ".py",
   "mimetype": "text/x-python",
   "name": "python",
   "nbconvert_exporter": "python",
   "pygments_lexer": "ipython3",
   "version": "3.11.0"
  }
 },
 "nbformat": 4,
 "nbformat_minor": 5
}
